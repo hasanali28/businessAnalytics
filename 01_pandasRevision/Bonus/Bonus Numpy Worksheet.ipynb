{
 "cells": [
  {
   "cell_type": "markdown",
   "id": "decimal-syndicate",
   "metadata": {},
   "source": [
    "# Bonus Numpy Worksheet\n",
    "\n",
    "This worksheet is intended as extra practice with numpy.  It is completely optional and can be solved however you would like.  However, I would highly recommend that you incorporate numpy arrays alongside classes and functions."
   ]
  },
  {
   "cell_type": "markdown",
   "id": "subtle-aircraft",
   "metadata": {},
   "source": [
    "## Tic-Tac-Toe\n",
    "\n",
    "The only project for this worksheet is to create the game of tic-tac-toe in Python.  Here are the basic rules:\n",
    "\n",
    "1. There is one 3x3 board, initially empty.\n",
    "\n",
    "2. This is a two player game where the players take turns marking a square on the board with their symbol (either an \"x\" or an \"o\")\n",
    "\n",
    "3. The winner is the first person to get 3 in a row along any direction (it is possible to tie)\n",
    "\n",
    "A more detailed explanation of the rules can be found here: https://www.exploratorium.edu/brain_explorer/tictactoe.html"
   ]
  },
  {
   "cell_type": "markdown",
   "id": "fiscal-jurisdiction",
   "metadata": {},
   "source": [
    "## Requirements\n",
    "\n",
    "For this project to be considered complete, your code must do the following:\n",
    "\n",
    "1. You must find a way to represent the board\n",
    "2. You must find a way to determine who starts\n",
    "3. The game must alternate between players taking turns\n",
    "4. A player can only choose empty squares to add their mark too\n",
    "5. After each move the game must check to see if that player has won or if the game has tied\n",
    "6. You must find a way to reset the game so that another round can play\n",
    "7. You must to find a way to display the game state to each player so they can make informed decisions\n",
    "8. You must allow for two people to play (the game looks for user input for both players) or an \"AI\" to play against (this can be as simple as an AI that plays randomly or you can encode some rules)"
   ]
  },
  {
   "cell_type": "code",
   "execution_count": 1,
   "id": "inner-consortium",
   "metadata": {},
   "outputs": [],
   "source": [
    "# Start your code here\n",
    "\n"
   ]
  }
 ],
 "metadata": {
  "kernelspec": {
   "display_name": "Python 3",
   "language": "python",
   "name": "python3"
  },
  "language_info": {
   "codemirror_mode": {
    "name": "ipython",
    "version": 3
   },
   "file_extension": ".py",
   "mimetype": "text/x-python",
   "name": "python",
   "nbconvert_exporter": "python",
   "pygments_lexer": "ipython3",
   "version": "3.8.8"
  }
 },
 "nbformat": 4,
 "nbformat_minor": 5
}
