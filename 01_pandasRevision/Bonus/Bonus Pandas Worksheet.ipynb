{
 "cells": [
  {
   "cell_type": "markdown",
   "id": "decimal-syndicate",
   "metadata": {},
   "source": [
    "# Bonus Pandas Worksheet\n",
    "\n",
    "This worksheet is intended to give you extra practice with pandas.  "
   ]
  },
  {
   "cell_type": "markdown",
   "id": "subtle-aircraft",
   "metadata": {},
   "source": [
    "## Dataset\n",
    "\n",
    "The project for this worksheet is to choose a dataset.  We'll learn more about data cleaning and exploration/visualization in the next section of the bootcamp.  For now, focus on choosing a dataset that is interesting to you."
   ]
  },
  {
   "cell_type": "markdown",
   "id": "fiscal-jurisdiction",
   "metadata": {},
   "source": [
    "## Resources\n",
    "\n",
    "There are a lot of websites that offer datasets.  Your dataset must have:\n",
    "\n",
    "1. Numerical Data\n",
    "2. Categorical Data\n",
    "3. Target\n",
    "\n",
    "Here are a list of the options to get datasets.  Feel free to use another website if you can find a dataset that you find interesting:\n",
    "\n",
    "1. <b>Kaggle:</b> https://www.kaggle.com/\n",
    "2. <b>Google:</b> https://cloud.google.com/solutions/datasets\n",
    "3. <b>United States Government:</b> https://www.data.gov/\n",
    "4. <b>Socrata:</b> https://dev.socrata.com/data/"
   ]
  },
  {
   "cell_type": "code",
   "execution_count": 1,
   "id": "inner-consortium",
   "metadata": {},
   "outputs": [],
   "source": [
    "# Check the dataset to make sure you have enough data here\n",
    "\n"
   ]
  }
 ],
 "metadata": {
  "kernelspec": {
   "display_name": "Python 3",
   "language": "python",
   "name": "python3"
  },
  "language_info": {
   "codemirror_mode": {
    "name": "ipython",
    "version": 3
   },
   "file_extension": ".py",
   "mimetype": "text/x-python",
   "name": "python",
   "nbconvert_exporter": "python",
   "pygments_lexer": "ipython3",
   "version": "3.8.8"
  }
 },
 "nbformat": 4,
 "nbformat_minor": 5
}
