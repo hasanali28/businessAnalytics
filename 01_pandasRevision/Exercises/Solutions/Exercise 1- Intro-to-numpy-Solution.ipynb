{
 "cells": [
  {
   "cell_type": "markdown",
   "id": "unknown-outdoors",
   "metadata": {},
   "source": [
    "## Exercise:Intro to numpy\n",
    "Numpy operates on *nd* arrays. These are similar to lists but contains homogenous elements but easier to store 2-d data.\n",
    "\n",
    "We want to work with sales data.  However, in order to do so we need sales data.  So let's make some.  We are working with a month's worth of data that is tracked daily.  We will also be tracking jeans, shirts, and apparel separately. \n",
    "\n",
    "### Part A\n",
    "\n",
    "#### Question 1\n",
    "\n",
    "The general trend is positive, so make three distinct arrays of length 31 each, starting with 5 and going up to 35 for jeans, shirts, and apparel."
   ]
  },
  {
   "cell_type": "code",
   "execution_count": 38,
   "id": "controlling-money",
   "metadata": {},
   "outputs": [],
   "source": [
    "import numpy as np"
   ]
  },
  {
   "cell_type": "code",
   "execution_count": 39,
   "id": "still-ontario",
   "metadata": {},
   "outputs": [
    {
     "data": {
      "text/plain": [
       "(31,)"
      ]
     },
     "execution_count": 39,
     "metadata": {},
     "output_type": "execute_result"
    }
   ],
   "source": [
    "jeans = np.linspace(5,35,31)\n",
    "jeans.shape"
   ]
  },
  {
   "cell_type": "code",
   "execution_count": 40,
   "id": "conventional-insight",
   "metadata": {},
   "outputs": [],
   "source": [
    "shirts = np.linspace(5,35,31)\n",
    "apparel = np.linspace(5,35,31)"
   ]
  },
  {
   "cell_type": "code",
   "execution_count": 41,
   "id": "mobile-sensitivity",
   "metadata": {},
   "outputs": [
    {
     "data": {
      "text/plain": [
       "array([ 5.,  6.,  7.,  8.,  9., 10., 11., 12., 13., 14., 15., 16., 17.,\n",
       "       18., 19., 20., 21., 22., 23., 24., 25., 26., 27., 28., 29., 30.,\n",
       "       31., 32., 33., 34., 35.])"
      ]
     },
     "execution_count": 41,
     "metadata": {},
     "output_type": "execute_result"
    }
   ],
   "source": [
    "jeans"
   ]
  },
  {
   "cell_type": "markdown",
   "id": "apparent-distributor",
   "metadata": {},
   "source": [
    "#### Question 2\n",
    "\n",
    "We also know Saturdays and Sundays have much more sales than the other days.  Add 10 to every 6th and 7th day (assume the first day in the array is a Monday)\n",
    "\n",
    "**Hint:** Create a mask that is True for sat and sun and False for the other days"
   ]
  },
  {
   "cell_type": "code",
   "execution_count": 42,
   "id": "improved-montgomery",
   "metadata": {},
   "outputs": [
    {
     "data": {
      "text/plain": [
       "[False,\n",
       " False,\n",
       " False,\n",
       " False,\n",
       " False,\n",
       " True,\n",
       " True,\n",
       " False,\n",
       " False,\n",
       " False,\n",
       " False,\n",
       " False,\n",
       " True,\n",
       " True,\n",
       " False,\n",
       " False,\n",
       " False,\n",
       " False,\n",
       " False,\n",
       " True,\n",
       " True,\n",
       " False,\n",
       " False,\n",
       " False,\n",
       " False,\n",
       " False,\n",
       " True,\n",
       " True,\n",
       " False,\n",
       " False,\n",
       " False]"
      ]
     },
     "execution_count": 42,
     "metadata": {},
     "output_type": "execute_result"
    }
   ],
   "source": [
    "# index 0 is Monday, so index 5 and 6 are Saturday and Sunday respectively\n",
    "# creating a mask\n",
    "mask = [True if i%7==5 or i%7==6 else False for i in range(len(jeans))]\n",
    "mask"
   ]
  },
  {
   "cell_type": "code",
   "execution_count": 43,
   "id": "usual-domestic",
   "metadata": {},
   "outputs": [],
   "source": [
    "jeans[mask] += 10\n",
    "shirts[mask] += 10\n",
    "apparel[mask] += 10"
   ]
  },
  {
   "cell_type": "markdown",
   "id": "hungarian-monday",
   "metadata": {},
   "source": [
    "#### Question 3\n",
    "\n",
    "No data is pretty.  We will need some noise.  Create a numpy array of random numbers (normal distribution) that has 31 rows and 3 columns\n",
    "- generate a single noise array of size (31,3) where each column will represent each array you created above\n"
   ]
  },
  {
   "cell_type": "code",
   "execution_count": 44,
   "id": "enabling-placement",
   "metadata": {},
   "outputs": [
    {
     "data": {
      "text/plain": [
       "(31, 3)"
      ]
     },
     "execution_count": 44,
     "metadata": {},
     "output_type": "execute_result"
    }
   ],
   "source": [
    "# The numpy.random.randn() function creates an array of specified shape and fills it with random values as per standard normal distribution. \n",
    "noise = np.random.randn(31,3)\n",
    "noise.shape"
   ]
  },
  {
   "cell_type": "markdown",
   "id": "internal-taxation",
   "metadata": {},
   "source": [
    "#### Question 4\n",
    "\n",
    "This random data needs to be scaled.  Add 1.5 to the entire array.  Then divide the jeans column by 2 and multiply the apparel column by 2"
   ]
  },
  {
   "cell_type": "code",
   "execution_count": 45,
   "id": "banner-supervisor",
   "metadata": {},
   "outputs": [],
   "source": [
    "# I choose the first column for jeans, second column for shirts, and third column for apparel\n",
    "noise += 1.5\n",
    "noise[:,0] /= 2\n",
    "noise[:,2] *= 2"
   ]
  },
  {
   "cell_type": "markdown",
   "id": "identical-determination",
   "metadata": {},
   "source": [
    "#### Question 5\n",
    "\n",
    "Check to make sure that you don't have any negative values in the number of units sold.  If you do, set those values equal to zero."
   ]
  },
  {
   "cell_type": "code",
   "execution_count": 46,
   "id": "silent-communication",
   "metadata": {},
   "outputs": [],
   "source": [
    "noise_mask = noise<0"
   ]
  },
  {
   "cell_type": "code",
   "execution_count": 47,
   "id": "assured-hammer",
   "metadata": {},
   "outputs": [
    {
     "data": {
      "text/plain": [
       "array([[-0.03854004,  3.78410073,  4.03140499],\n",
       "       [-0.16015727,  0.14995934,  3.82281103]])"
      ]
     },
     "execution_count": 47,
     "metadata": {},
     "output_type": "execute_result"
    }
   ],
   "source": [
    "# Jeans\n",
    "noise[noise_mask[:,0]]"
   ]
  },
  {
   "cell_type": "code",
   "execution_count": 48,
   "id": "comprehensive-calculator",
   "metadata": {},
   "outputs": [
    {
     "data": {
      "text/plain": [
       "array([[ 0.52154048, -0.12908804,  0.79696198]])"
      ]
     },
     "execution_count": 48,
     "metadata": {},
     "output_type": "execute_result"
    }
   ],
   "source": [
    "# Shirts\n",
    "noise[noise_mask[:,1]]"
   ]
  },
  {
   "cell_type": "code",
   "execution_count": 49,
   "id": "brilliant-solid",
   "metadata": {},
   "outputs": [
    {
     "data": {
      "text/plain": [
       "array([[ 1.24669522,  2.83451506, -0.47129589],\n",
       "       [ 1.54801439,  1.40771748, -0.85645492]])"
      ]
     },
     "execution_count": 49,
     "metadata": {},
     "output_type": "execute_result"
    }
   ],
   "source": [
    "# Apparel\n",
    "noise[noise_mask[:,2]]"
   ]
  },
  {
   "cell_type": "code",
   "execution_count": 50,
   "id": "yellow-sixth",
   "metadata": {},
   "outputs": [
    {
     "data": {
      "text/plain": [
       "array([[0.04920539, 0.17956147, 5.35939479],\n",
       "       [0.        , 3.78410073, 4.03140499],\n",
       "       [1.59194855, 0.10745075, 4.79559549],\n",
       "       [1.46180838, 0.83456383, 1.52423895],\n",
       "       [0.69980727, 0.26433764, 5.05966321],\n",
       "       [0.62971736, 1.28346827, 4.0184245 ],\n",
       "       [0.96863141, 1.74419332, 4.86506669],\n",
       "       [1.08325043, 1.0270614 , 6.06117518],\n",
       "       [0.98662907, 2.36243795, 5.40424279],\n",
       "       [1.4705419 , 0.6575446 , 6.13443818],\n",
       "       [1.74026502, 0.48335196, 3.19719329],\n",
       "       [0.52154048, 0.        , 0.79696198],\n",
       "       [1.24669522, 2.83451506, 0.        ],\n",
       "       [1.06935305, 1.38992177, 3.08801434],\n",
       "       [0.75384361, 2.33787433, 2.8010865 ],\n",
       "       [1.48076858, 1.99565671, 1.74842934],\n",
       "       [0.61819411, 0.42500793, 2.5871161 ],\n",
       "       [0.67445652, 0.44721855, 4.6572097 ],\n",
       "       [1.7730714 , 0.97054595, 4.84630732],\n",
       "       [0.4028736 , 0.14587782, 3.88569544],\n",
       "       [0.46458764, 2.46248235, 2.99719334],\n",
       "       [0.98572824, 2.33592214, 3.27385145],\n",
       "       [0.        , 0.14995934, 3.82281103],\n",
       "       [1.08862347, 2.24236386, 0.34716869],\n",
       "       [0.50880403, 0.64218891, 5.34693433],\n",
       "       [1.54801439, 1.40771748, 0.        ],\n",
       "       [0.26146343, 3.78518438, 4.03720632],\n",
       "       [0.72399276, 1.38937764, 3.88301304],\n",
       "       [1.07553446, 0.98438661, 4.85375863],\n",
       "       [0.34577676, 1.37065339, 1.83248992],\n",
       "       [0.93126063, 0.60117274, 1.99224656]])"
      ]
     },
     "execution_count": 50,
     "metadata": {},
     "output_type": "execute_result"
    }
   ],
   "source": [
    "noise[noise_mask] = 0\n",
    "noise"
   ]
  },
  {
   "cell_type": "markdown",
   "id": "commercial-berkeley",
   "metadata": {},
   "source": [
    "#### Question 6\n",
    "\n",
    "Multiply the Noise array and the data arrays(jeans,shirt and apparel)arrays.You should now have an approximation for number of units sold.Unfortunately, they're floats.Convert the values into integers"
   ]
  },
  {
   "cell_type": "code",
   "execution_count": 51,
   "id": "historical-murray",
   "metadata": {},
   "outputs": [],
   "source": [
    "jeans *= noise[:,0]\n",
    "shirts *= noise[:,1]\n",
    "apparel *=noise[:,2] "
   ]
  },
  {
   "cell_type": "code",
   "execution_count": 52,
   "id": "chronic-mentor",
   "metadata": {},
   "outputs": [
    {
     "data": {
      "text/plain": [
       "array([ 0,  0, 11, 11,  6, 12, 20, 12, 12, 20, 26,  8, 33, 29, 14, 29, 12,\n",
       "       14, 40, 13, 16, 25,  0, 30, 14, 46, 10, 30, 35, 11, 32])"
      ]
     },
     "execution_count": 52,
     "metadata": {},
     "output_type": "execute_result"
    }
   ],
   "source": [
    "jeans= jeans.astype(int)\n",
    "jeans"
   ]
  },
  {
   "cell_type": "code",
   "execution_count": 53,
   "id": "fec1ab85",
   "metadata": {},
   "outputs": [
    {
     "data": {
      "text/plain": [
       "array([  0,  22,   0,   6,   2,  25,  36,  12,  30,   9,   7,   0,  76,\n",
       "        38,  44,  39,   8,   9,  22,   4,  86,  60,   4,  62,  18,  42,\n",
       "       155,  58,  32,  46,  21])"
      ]
     },
     "execution_count": 53,
     "metadata": {},
     "output_type": "execute_result"
    }
   ],
   "source": [
    "shirts= shirts.astype(int)\n",
    "shirts"
   ]
  },
  {
   "cell_type": "code",
   "execution_count": 54,
   "id": "bb99305b",
   "metadata": {},
   "outputs": [
    {
     "data": {
      "text/plain": [
       "array([ 26,  24,  33,  12,  45,  80, 102,  72,  70,  85,  47,  12,   0,\n",
       "        86,  53,  34,  54, 102, 111, 132, 104,  85, 103,   9, 155,   0,\n",
       "       165, 163, 160,  62,  69])"
      ]
     },
     "execution_count": 54,
     "metadata": {},
     "output_type": "execute_result"
    }
   ],
   "source": [
    "apparel= apparel.astype(int)\n",
    "apparel"
   ]
  },
  {
   "cell_type": "markdown",
   "id": "otherwise-primary",
   "metadata": {},
   "source": [
    "#### Question 7\n",
    "\n",
    "Finally, these values are in units sold, but not how much money made.  Let's say each apparel was 10 dollars, each shirt was 20, and each pair of jeans were 30.  Multiply each column by the dollar amount earned by Levis.  What was the total amount earned?"
   ]
  },
  {
   "cell_type": "code",
   "execution_count": 55,
   "id": "pleased-retail",
   "metadata": {},
   "outputs": [],
   "source": [
    "jeans *= 30\n",
    "shirts *= 20\n",
    "apparel *= 10"
   ]
  },
  {
   "cell_type": "code",
   "execution_count": 59,
   "id": "anonymous-lover",
   "metadata": {},
   "outputs": [
    {
     "data": {
      "text/plain": [
       "59140"
      ]
     },
     "execution_count": 59,
     "metadata": {},
     "output_type": "execute_result"
    }
   ],
   "source": [
    "# total amount earned\n",
    "np.sum([jeans,shirts,apparel])\n",
    "# you can also do (np.sum(jeans)+np.sum(shirts)+np.sum(apparel))"
   ]
  },
  {
   "cell_type": "markdown",
   "id": "3ebb16da",
   "metadata": {},
   "source": [
    "#### Question 8\n",
    "Concatenate all the three arrays as a single data array"
   ]
  },
  {
   "cell_type": "code",
   "execution_count": 71,
   "id": "038c8ec9",
   "metadata": {},
   "outputs": [
    {
     "data": {
      "text/plain": [
       "array([[   0,    0,  260],\n",
       "       [   0,  440,  240],\n",
       "       [ 330,    0,  330],\n",
       "       [ 330,  120,  120],\n",
       "       [ 180,   40,  450],\n",
       "       [ 360,  500,  800],\n",
       "       [ 600,  720, 1020],\n",
       "       [ 360,  240,  720],\n",
       "       [ 360,  600,  700],\n",
       "       [ 600,  180,  850],\n",
       "       [ 780,  140,  470],\n",
       "       [ 240,    0,  120],\n",
       "       [ 990, 1520,    0],\n",
       "       [ 870,  760,  860],\n",
       "       [ 420,  880,  530],\n",
       "       [ 870,  780,  340],\n",
       "       [ 360,  160,  540],\n",
       "       [ 420,  180, 1020],\n",
       "       [1200,  440, 1110],\n",
       "       [ 390,   80, 1320],\n",
       "       [ 480, 1720, 1040],\n",
       "       [ 750, 1200,  850],\n",
       "       [   0,   80, 1030],\n",
       "       [ 900, 1240,   90],\n",
       "       [ 420,  360, 1550],\n",
       "       [1380,  840,    0],\n",
       "       [ 300, 3100, 1650],\n",
       "       [ 900, 1160, 1630],\n",
       "       [1050,  640, 1600],\n",
       "       [ 330,  920,  620],\n",
       "       [ 960,  420,  690]])"
      ]
     },
     "execution_count": 71,
     "metadata": {},
     "output_type": "execute_result"
    }
   ],
   "source": [
    "data= np.stack([jeans,shirts,apparel],axis=-1)\n",
    "data"
   ]
  },
  {
   "cell_type": "markdown",
   "id": "8bbbe14c",
   "metadata": {},
   "source": [
    "### Part B\n",
    "#### Question 1\n",
    "\n",
    "Create an identity 2d-array or matrix (with ones across the diagonal).\n",
    "`An identity matrix is a square matrix having 1s on the main diagonal, and 0s everywhere else`\n",
    "\n",
    "**Hint:** You can also use `np.identity()` function "
   ]
  },
  {
   "cell_type": "code",
   "execution_count": 76,
   "id": "9d5df6d3",
   "metadata": {},
   "outputs": [
    {
     "data": {
      "text/plain": [
       "array([[1., 0., 0.],\n",
       "       [0., 1., 0.],\n",
       "       [0., 0., 1.]])"
      ]
     },
     "execution_count": 76,
     "metadata": {},
     "output_type": "execute_result"
    }
   ],
   "source": [
    "arr= np.identity(3)\n",
    "arr"
   ]
  },
  {
   "cell_type": "markdown",
   "id": "718fb9ae",
   "metadata": {},
   "source": [
    "#### Question 2\n",
    "Create a 2d-array or matrix of order 3x3 with values = 9,8,7,6,5,4,3,2,1 arranged in the same order."
   ]
  },
  {
   "cell_type": "code",
   "execution_count": 80,
   "id": "5f7a5946",
   "metadata": {},
   "outputs": [
    {
     "data": {
      "text/plain": [
       "array([[9, 8, 7],\n",
       "       [6, 5, 4],\n",
       "       [3, 2, 1]])"
      ]
     },
     "execution_count": 80,
     "metadata": {},
     "output_type": "execute_result"
    }
   ],
   "source": [
    "arr1= np.array([[9,8,7],[6,5,4],[3,2,1]])\n",
    "arr1"
   ]
  },
  {
   "cell_type": "markdown",
   "id": "152d3e5e",
   "metadata": {},
   "source": [
    "you can also use np.arange()"
   ]
  },
  {
   "cell_type": "code",
   "execution_count": 82,
   "id": "12d8826d",
   "metadata": {},
   "outputs": [
    {
     "data": {
      "text/plain": [
       "array([[9, 8, 7],\n",
       "       [6, 5, 4],\n",
       "       [3, 2, 1]])"
      ]
     },
     "execution_count": 82,
     "metadata": {},
     "output_type": "execute_result"
    }
   ],
   "source": [
    "# np.arange return evenly spaced values within a given interval.\n",
    "arr1= np.arange(start=9,stop=0,step=-1)\n",
    "arr1=arr1.reshape(3,3)\n",
    "arr1"
   ]
  },
  {
   "cell_type": "markdown",
   "id": "dd580fa1",
   "metadata": {},
   "source": [
    "#### Question 3\n",
    "\n",
    "Interchange both the rows and columns of the given matrix.\n",
    "\n",
    "**Hint:** make rows as columns and columns as rows\n"
   ]
  },
  {
   "cell_type": "code",
   "execution_count": 83,
   "id": "4dfa61ac",
   "metadata": {},
   "outputs": [
    {
     "data": {
      "text/plain": [
       "array([[9, 6, 3],\n",
       "       [8, 5, 2],\n",
       "       [7, 4, 1]])"
      ]
     },
     "execution_count": 83,
     "metadata": {},
     "output_type": "execute_result"
    }
   ],
   "source": [
    "arr1.T"
   ]
  },
  {
   "cell_type": "markdown",
   "id": "5837b0a4",
   "metadata": {},
   "source": [
    "#### Question 4\n",
    "Add + 1 to all the elements in the matrix created above."
   ]
  },
  {
   "cell_type": "code",
   "execution_count": 84,
   "id": "c5c73aa3",
   "metadata": {},
   "outputs": [
    {
     "data": {
      "text/plain": [
       "array([[10,  9,  8],\n",
       "       [ 7,  6,  5],\n",
       "       [ 4,  3,  2]])"
      ]
     },
     "execution_count": 84,
     "metadata": {},
     "output_type": "execute_result"
    }
   ],
   "source": [
    "arr1+1"
   ]
  },
  {
   "cell_type": "markdown",
   "id": "8880ae73",
   "metadata": {},
   "source": [
    "Similarly you can do operations like scalar substraction, division, multiplication (operating on each element in the matrix)"
   ]
  },
  {
   "cell_type": "markdown",
   "id": "f88a0428",
   "metadata": {},
   "source": [
    "#### Question 5\n",
    "\n",
    "Find the mean of all elements in the given matrix arr2.\n",
    "- create three lists L1,L2,L3 and populate them with [1, 4,9,121,144,169],[16,25,36,196,225,256],[49,64,81,289,324,361] respectively\n",
    "- create an array using these lists\n",
    "- find the mean of the array"
   ]
  },
  {
   "cell_type": "code",
   "execution_count": 86,
   "id": "53991a29",
   "metadata": {
    "scrolled": true
   },
   "outputs": [
    {
     "data": {
      "text/plain": [
       "array([[  1,   4,   9, 121, 144, 169],\n",
       "       [ 16,  25,  36, 196, 225, 256],\n",
       "       [ 49,  64,  81, 289, 324, 361]])"
      ]
     },
     "execution_count": 86,
     "metadata": {},
     "output_type": "execute_result"
    }
   ],
   "source": [
    "L1=[1, 4,9,121,144,169]\n",
    "L2=[16,25,36,196,225,256]\n",
    "L3=[49,64,81,289,324,361]\n",
    "arr2=np.array([L1,L2,L3])\n",
    "arr2"
   ]
  },
  {
   "cell_type": "code",
   "execution_count": 87,
   "id": "55283859",
   "metadata": {},
   "outputs": [
    {
     "data": {
      "text/plain": [
       "131.66666666666666"
      ]
     },
     "execution_count": 87,
     "metadata": {},
     "output_type": "execute_result"
    }
   ],
   "source": [
    "arr2.mean()"
   ]
  },
  {
   "cell_type": "markdown",
   "id": "4a3faa3b",
   "metadata": {},
   "source": [
    "#### Question 6\n",
    "Find the dot product of two arrays created above in question 4 and question 5"
   ]
  },
  {
   "cell_type": "code",
   "execution_count": 89,
   "id": "a5615749",
   "metadata": {},
   "outputs": [
    {
     "data": {
      "text/plain": [
       "array([[ 480,  684,  936, 4680, 5364, 6096],\n",
       "       [ 282,  405,  558, 2862, 3285, 3738],\n",
       "       [  84,  126,  180, 1044, 1206, 1380]])"
      ]
     },
     "execution_count": 89,
     "metadata": {},
     "output_type": "execute_result"
    }
   ],
   "source": [
    "arr3= np.dot(arr1,arr2)\n",
    "arr3"
   ]
  },
  {
   "cell_type": "code",
   "execution_count": null,
   "id": "622b7de8",
   "metadata": {},
   "outputs": [],
   "source": []
  }
 ],
 "metadata": {
  "kernelspec": {
   "display_name": "Python 3 (ipykernel)",
   "language": "python",
   "name": "python3"
  },
  "language_info": {
   "codemirror_mode": {
    "name": "ipython",
    "version": 3
   },
   "file_extension": ".py",
   "mimetype": "text/x-python",
   "name": "python",
   "nbconvert_exporter": "python",
   "pygments_lexer": "ipython3",
   "version": "3.9.7"
  }
 },
 "nbformat": 4,
 "nbformat_minor": 5
}
