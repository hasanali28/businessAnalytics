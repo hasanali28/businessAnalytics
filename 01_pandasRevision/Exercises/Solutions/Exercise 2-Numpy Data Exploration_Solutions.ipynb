{
 "cells": [
  {
   "cell_type": "markdown",
   "metadata": {},
   "source": [
    "## Exercise 2 Numpy Data Exploration"
   ]
  },
  {
   "cell_type": "markdown",
   "metadata": {},
   "source": [
    "Complete the following using data from the file traffic.csv.  The data file contains data from a car speeding study in which signs were placed along a roadway. It was a study about the effect that warning signs have on speeding patterns.  The city council undertaking the study considered 14 pairs of locations. The locations were paired to account for factors such as traffic volume and type of road. Pairs of sites were used, and one sites had a sign erected warning of the dangers of speeding and asking drivers to slow down. No action was taken at the second site. Three sets of measurements were taken at each site. These speed measurements were taken before the erection of the sign, shortly after the erection of the sign, and again after the sign had been in place for some time.\n",
    "\n",
    "This data set contains the following columns:\n",
    "\n",
    "1. <b>Speed:</b> Speeds of cars (in miles per hour).\n",
    "\n",
    "2. <b>Period:</b> A numeric column indicating the time that the reading was taken. A value of 1 indicates a reading taken before the sign was erected, a 2 indicates a reading taken shortly after erection of the sign and a 3 indicates a reading taken after the sign had been in place for some time.\n",
    "\n",
    "3. <b>Warning:</b> A numeric column indicating whether the location of the reading was chosen to have a warning sign erected. A value of 1 indicates presence of a sign and a value of 2 indicates that no sign was erected.\n",
    "\n",
    "4. <b>Pair:</b> A numeric column giving the pair number at which the reading was taken. Pairs were numbered from 1 to 14."
   ]
  },
  {
   "cell_type": "markdown",
   "metadata": {},
   "source": [
    "#### Question 1\n",
    "\n",
    "Load data in the file data.csv into a numpy array and display."
   ]
  },
  {
   "cell_type": "code",
   "execution_count": 3,
   "metadata": {},
   "outputs": [],
   "source": [
    "import numpy as np"
   ]
  },
  {
   "cell_type": "code",
   "execution_count": 4,
   "metadata": {},
   "outputs": [],
   "source": [
    "#Load the data using -> np.loadtxt('data.csv',delimiter = ',',skiprows=1)\n",
    "columns = np.loadtxt('../data/traffic.csv',delimiter = ',', max_rows=1, dtype=object)\n",
    "data = np.loadtxt('../data/traffic.csv',delimiter = ',', skiprows=1)"
   ]
  },
  {
   "cell_type": "code",
   "execution_count": 5,
   "metadata": {},
   "outputs": [
    {
     "data": {
      "text/plain": [
       "array(['speed', 'period', 'warning', 'pair'], dtype=object)"
      ]
     },
     "execution_count": 5,
     "metadata": {},
     "output_type": "execute_result"
    }
   ],
   "source": [
    "columns"
   ]
  },
  {
   "cell_type": "code",
   "execution_count": 6,
   "metadata": {},
   "outputs": [
    {
     "data": {
      "text/plain": [
       "array([[26.,  1.,  1.,  1.],\n",
       "       [26.,  1.,  1.,  1.],\n",
       "       [26.,  1.,  1.,  1.],\n",
       "       [26.,  1.,  1.,  1.],\n",
       "       [27.,  1.,  1.,  1.]])"
      ]
     },
     "execution_count": 6,
     "metadata": {},
     "output_type": "execute_result"
    }
   ],
   "source": [
    "# Display the first five rows here\n",
    "data[:5]"
   ]
  },
  {
   "cell_type": "markdown",
   "metadata": {},
   "source": [
    "#### Question 2\n",
    "\n",
    "Confirm that the data has 14 pairs, numbered from 1 to 14"
   ]
  },
  {
   "cell_type": "code",
   "execution_count": 5,
   "metadata": {},
   "outputs": [
    {
     "data": {
      "text/plain": [
       "array([ 1.,  2.,  3.,  4.,  5.,  6.,  7.,  8.,  9., 10., 11., 12., 13.,\n",
       "       14.])"
      ]
     },
     "execution_count": 5,
     "metadata": {},
     "output_type": "execute_result"
    }
   ],
   "source": [
    "# We have 14 pairs\n",
    "np.unique(data[:,3])"
   ]
  },
  {
   "cell_type": "markdown",
   "metadata": {},
   "source": [
    "#### Question 3\n",
    "\n",
    "Confirm that for each pair, there is a place with a warning and one without\n",
    "\n",
    "**Hint:** A for loop makes this much easier"
   ]
  },
  {
   "cell_type": "code",
   "execution_count": 6,
   "metadata": {},
   "outputs": [
    {
     "name": "stdout",
     "output_type": "stream",
     "text": [
      "Pair:1\tWarnings:[1. 2.]\n",
      "Pair:2\tWarnings:[1. 2.]\n",
      "Pair:3\tWarnings:[1. 2.]\n",
      "Pair:4\tWarnings:[1. 2.]\n",
      "Pair:5\tWarnings:[1. 2.]\n",
      "Pair:6\tWarnings:[1. 2.]\n",
      "Pair:7\tWarnings:[1. 2.]\n",
      "Pair:8\tWarnings:[1. 2.]\n",
      "Pair:9\tWarnings:[1. 2.]\n",
      "Pair:10\tWarnings:[1. 2.]\n",
      "Pair:11\tWarnings:[1. 2.]\n",
      "Pair:12\tWarnings:[1. 2.]\n",
      "Pair:13\tWarnings:[1. 2.]\n",
      "Pair:14\tWarnings:[1. 2.]\n"
     ]
    }
   ],
   "source": [
    "for i in range(1,15):\n",
    "    print(f'Pair:{i}\\tWarnings:{np.unique(data[data[:,3]==i,2])}')"
   ]
  },
  {
   "cell_type": "markdown",
   "metadata": {},
   "source": [
    "#### Question 4\n",
    "\n",
    "Confirm that for each pair/warning combo, we have values taken from each time (1,2, and 3)"
   ]
  },
  {
   "cell_type": "code",
   "execution_count": 7,
   "metadata": {},
   "outputs": [
    {
     "name": "stdout",
     "output_type": "stream",
     "text": [
      "Pair: 1 \tWarning: 1\tTime Periods: [1. 2. 3.]\n",
      "Pair: 1 \tWarning: 2\tTime Periods: [1. 2. 3.]\n",
      "Pair: 2 \tWarning: 1\tTime Periods: [1. 2. 3.]\n",
      "Pair: 2 \tWarning: 2\tTime Periods: [1. 2. 3.]\n",
      "Pair: 3 \tWarning: 1\tTime Periods: [1. 2. 3.]\n",
      "Pair: 3 \tWarning: 2\tTime Periods: [1. 2. 3.]\n",
      "Pair: 4 \tWarning: 1\tTime Periods: [1. 2. 3.]\n",
      "Pair: 4 \tWarning: 2\tTime Periods: [1. 2. 3.]\n",
      "Pair: 5 \tWarning: 1\tTime Periods: [1. 2. 3.]\n",
      "Pair: 5 \tWarning: 2\tTime Periods: [1. 2. 3.]\n",
      "Pair: 6 \tWarning: 1\tTime Periods: [1. 2. 3.]\n",
      "Pair: 6 \tWarning: 2\tTime Periods: [1. 2. 3.]\n",
      "Pair: 7 \tWarning: 1\tTime Periods: [1. 2. 3.]\n",
      "Pair: 7 \tWarning: 2\tTime Periods: [1. 2. 3.]\n",
      "Pair: 8 \tWarning: 1\tTime Periods: [1. 2. 3.]\n",
      "Pair: 8 \tWarning: 2\tTime Periods: [1. 2. 3.]\n",
      "Pair: 9 \tWarning: 1\tTime Periods: [1. 2. 3.]\n",
      "Pair: 9 \tWarning: 2\tTime Periods: [1. 2. 3.]\n",
      "Pair: 10 \tWarning: 1\tTime Periods: [1. 2. 3.]\n",
      "Pair: 10 \tWarning: 2\tTime Periods: [1. 2. 3.]\n",
      "Pair: 11 \tWarning: 1\tTime Periods: [1. 2. 3.]\n",
      "Pair: 11 \tWarning: 2\tTime Periods: [1. 2. 3.]\n",
      "Pair: 12 \tWarning: 1\tTime Periods: [1. 2. 3.]\n",
      "Pair: 12 \tWarning: 2\tTime Periods: [1. 2. 3.]\n",
      "Pair: 13 \tWarning: 1\tTime Periods: [1. 2. 3.]\n",
      "Pair: 13 \tWarning: 2\tTime Periods: [1. 2. 3.]\n",
      "Pair: 14 \tWarning: 1\tTime Periods: [1. 2. 3.]\n",
      "Pair: 14 \tWarning: 2\tTime Periods: [1. 2. 3.]\n"
     ]
    }
   ],
   "source": [
    "for i in range(1,15):\n",
    "    for j in range(1,3):\n",
    "        print(f'Pair: {i} \\tWarning: {j}\\tTime Periods: {np.unique(data[(data[:,3]==i)&(data[:,2]==j),1])}')"
   ]
  },
  {
   "cell_type": "markdown",
   "metadata": {},
   "source": [
    "#### Question 5\n",
    "\n",
    "What is the average speed calculated for each time period?  We only care about the impact that the warning had so let's make sure that we only look at speeds where the warning sign was placed.  Did the signs help?"
   ]
  },
  {
   "cell_type": "code",
   "execution_count": 8,
   "metadata": {},
   "outputs": [
    {
     "name": "stdout",
     "output_type": "stream",
     "text": [
      "Period: 1\tAvg Speed: 36.51\n",
      "Period: 2\tAvg Speed: 35.769285714285715\n",
      "Period: 3\tAvg Speed: 37.66226138032305\n"
     ]
    }
   ],
   "source": [
    "for t in range(1,4):\n",
    "    print(f'Period: {t}\\tAvg Speed: {np.mean(data[(data[:,1]==t)&(data[:,2]==1),0])}')"
   ]
  },
  {
   "cell_type": "markdown",
   "metadata": {},
   "source": [
    "#### Question 6\n",
    "\n",
    "Which pair had the slowest speed recorded?  The fastest?"
   ]
  },
  {
   "cell_type": "code",
   "execution_count": 13,
   "metadata": {},
   "outputs": [
    {
     "name": "stdout",
     "output_type": "stream",
     "text": [
      "['speed' 'period' 'warning' 'pair']\n",
      "[19.  2.  1.  7.]\n",
      "[67.  2.  2. 13.]\n"
     ]
    }
   ],
   "source": [
    "# Method 1\n",
    "print(columns)\n",
    "\n",
    "min_speed = np.argmin(data[:,0])\n",
    "print(data[min_speed])\n",
    "\n",
    "max_speed = np.argmax(data[:,0])\n",
    "print(data[max_speed])"
   ]
  },
  {
   "cell_type": "code",
   "execution_count": 13,
   "metadata": {},
   "outputs": [
    {
     "name": "stdout",
     "output_type": "stream",
     "text": [
      "Slowest pair was 7 with a speed of 19.0\n",
      "Fastest pair was 13 with a speed of 67.0\n"
     ]
    }
   ],
   "source": [
    "# Method 2\n",
    "lowest_speed = np.inf\n",
    "highest_speed = -np.inf\n",
    "slowest_pair = 0\n",
    "fastest_pair = 0\n",
    "\n",
    "for i in range(1,15):\n",
    "    \n",
    "    min_speed = np.min(data[data[:,3]==i,0])\n",
    "    max_speed = np.max(data[data[:,3]==i,0])\n",
    "    \n",
    "    \n",
    "    if min_speed<lowest_speed:\n",
    "        lowest_speed = min_speed\n",
    "        slowest_pair = i\n",
    "        \n",
    "    if max_speed>highest_speed:\n",
    "        highest_speed = max_speed\n",
    "        fastest_pair = i\n",
    "        \n",
    "    \n",
    "print(f'Slowest pair was {slowest_pair} with a speed of {lowest_speed}\\nFastest pair was {fastest_pair} with a speed of {highest_speed}')"
   ]
  },
  {
   "cell_type": "markdown",
   "metadata": {},
   "source": [
    "#### Question 7\n",
    "\n",
    "Which pair had the biggest drop off in average speed from time period 1 to 2?"
   ]
  },
  {
   "cell_type": "code",
   "execution_count": 14,
   "metadata": {},
   "outputs": [
    {
     "name": "stdout",
     "output_type": "stream",
     "text": [
      "Biggest drop off was 3.5150000000000006 for pair 9\n"
     ]
    }
   ],
   "source": [
    "biggest_drop_off = -np.inf\n",
    "pair = 0\n",
    "\n",
    "for i in range(1,15):\n",
    "    \n",
    "    min_speed = np.min(data[data[:,3]==i,0])\n",
    "    max_speed = np.max(data[data[:,3]==i,0])\n",
    "    drop_off = np.mean(data[(data[:,3]==i)&(data[:,1]==1),0])-np.mean(data[(data[:,3]==i)&(data[:,1]==2),0])\n",
    "    \n",
    "    \n",
    "    if drop_off>biggest_drop_off:\n",
    "        biggest_drop_off = drop_off\n",
    "        pair = i\n",
    "        \n",
    "    \n",
    "print(f'Biggest drop off was {biggest_drop_off} for pair {pair}')"
   ]
  }
 ],
 "metadata": {
  "kernelspec": {
   "display_name": "Python 3 (ipykernel)",
   "language": "python",
   "name": "python3"
  },
  "language_info": {
   "codemirror_mode": {
    "name": "ipython",
    "version": 3
   },
   "file_extension": ".py",
   "mimetype": "text/x-python",
   "name": "python",
   "nbconvert_exporter": "python",
   "pygments_lexer": "ipython3",
   "version": "3.9.7"
  }
 },
 "nbformat": 4,
 "nbformat_minor": 2
}
