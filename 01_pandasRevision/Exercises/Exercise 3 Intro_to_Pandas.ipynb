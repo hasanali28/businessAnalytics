{
 "cells": [
  {
   "cell_type": "markdown",
   "id": "deluxe-cornwall",
   "metadata": {},
   "source": [
    "## Exercise-3 Intro_to_Pandas\n",
    "We have seen Numpy in the last section. It is good at performing math operation on 2d-arrays of numbers. But the major drawback is, it cannot deal with heterogenous values. So, Pandas dataframes are helpful in that aspect for storing different data types and referring the values like a dict in python instead of just referring each item with index.\n",
    "\n",
    "### Part-A Pandas Basics\n",
    "\n",
    "#### Question 1\n",
    "Convert a given dict to pd series.\n",
    "\n",
    "**Hint:** Use **.Series**"
   ]
  },
  {
   "cell_type": "code",
   "execution_count": 3,
   "id": "extra-crime",
   "metadata": {},
   "outputs": [],
   "source": []
  },
  {
   "cell_type": "markdown",
   "id": "0ac312b9",
   "metadata": {},
   "source": [
    "You can directly use numpy functions on series.\n",
    "#### Question 2\n",
    "- Create a dictionary using following data\n",
    "    - L1=[1,2,3]\n",
    "    - keys=['key1', 'key2', 'key3']\n",
    "    \n",
    "- create a series using the dictionary created above \n",
    "- Find the dot product of both the series created above\n",
    "\n",
    "**Hint:** Use np.dot()"
   ]
  },
  {
   "cell_type": "code",
   "execution_count": null,
   "id": "5faa7210",
   "metadata": {},
   "outputs": [],
   "source": []
  },
  {
   "cell_type": "markdown",
   "id": "beceb63c",
   "metadata": {},
   "source": [
    "#### Dataframes\n",
    "A dataframe is a table with labeled columns which can hold different types of data in each column. \n",
    "\n",
    "#### Question 3\n",
    "- create a Dataframe using following dict\n",
    "  - d1 = {'a': [1,2,3], 'b': [3,4,5], 'c':[6,7,8] }  \n",
    "- Select second row in the above dataframe.  "
   ]
  },
  {
   "cell_type": "code",
   "execution_count": null,
   "id": "99863f92",
   "metadata": {},
   "outputs": [],
   "source": []
  },
  {
   "cell_type": "markdown",
   "id": "dc3febc4",
   "metadata": {},
   "source": [
    "#### Question 4\n",
    "\n",
    "Select column c in second row of df1.\n",
    "\n",
    "**Hint:** For using labels use **df.loc[row, column]**. For using numeric indexed use **df.iloc[ ]**. For using mixture of numeric indexes and labels use **df.ix[row, column]** "
   ]
  },
  {
   "cell_type": "code",
   "execution_count": null,
   "id": "f1376480",
   "metadata": {},
   "outputs": [],
   "source": []
  },
  {
   "cell_type": "markdown",
   "id": "ffc1e306",
   "metadata": {},
   "source": [
    "## Using Dataframes on a dataset\n",
    "\n",
    "### Part-B: Return to Traffic Data\n",
    "\n",
    "We've learned a lot of Pandas so far.  Hopefully this has been easier to learn as we've done a lot of this in numpy.\n",
    "\n",
    "#### Question 1\n",
    "\n",
    "Read in the traffic data, but this time into a pandas dataframe.  Take a look at the first 5 rows"
   ]
  },
  {
   "cell_type": "code",
   "execution_count": null,
   "id": "7fa9a8d0",
   "metadata": {},
   "outputs": [],
   "source": []
  },
  {
   "cell_type": "markdown",
   "id": "75151556",
   "metadata": {},
   "source": [
    "#### Question 2\n",
    "\n",
    "Check the type and dimensions of given dataset"
   ]
  },
  {
   "cell_type": "code",
   "execution_count": null,
   "id": "0b73face",
   "metadata": {},
   "outputs": [],
   "source": []
  },
  {
   "cell_type": "markdown",
   "id": "91d25a66",
   "metadata": {},
   "source": [
    "#### Question 3\n",
    "\n",
    "Check the first 10 lines and last 10 lines of the given dataset"
   ]
  },
  {
   "cell_type": "code",
   "execution_count": null,
   "id": "57b25339",
   "metadata": {},
   "outputs": [],
   "source": []
  },
  {
   "cell_type": "markdown",
   "id": "586fa5d3",
   "metadata": {},
   "source": [
    "#### Question 4\n",
    "\n",
    "Print all the column labels in the given dataset"
   ]
  },
  {
   "cell_type": "code",
   "execution_count": null,
   "id": "b50c993a",
   "metadata": {},
   "outputs": [],
   "source": []
  },
  {
   "cell_type": "markdown",
   "id": "212d3cae",
   "metadata": {},
   "source": [
    "#### Question 5\n",
    "Select first 6 rows and 3 columns in dataframe."
   ]
  },
  {
   "cell_type": "code",
   "execution_count": null,
   "id": "a93eab96",
   "metadata": {},
   "outputs": [],
   "source": []
  },
  {
   "cell_type": "markdown",
   "id": "clean-newfoundland",
   "metadata": {},
   "source": [
    "#### Question 6\n",
    "\n",
    "What is the average speed of cars?  Also, check the value_counts() of period, warning, and pair.  Do we have an equal distribution?\n",
    "\n",
    "**BONUS:** Sort the value_counts() by the index so that it's easier to read"
   ]
  },
  {
   "cell_type": "code",
   "execution_count": null,
   "id": "mathematical-drama",
   "metadata": {},
   "outputs": [],
   "source": []
  },
  {
   "cell_type": "markdown",
   "id": "separated-terrorist",
   "metadata": {},
   "source": [
    "#### Question 7\n",
    "\n",
    "Let's say that the speed limit for every location is 55mph (speed of 55 is not speeding).  How many speeders vs non-speeders did we have?"
   ]
  },
  {
   "cell_type": "code",
   "execution_count": null,
   "id": "sharp-panic",
   "metadata": {},
   "outputs": [],
   "source": []
  },
  {
   "cell_type": "markdown",
   "id": "regular-ecuador",
   "metadata": {},
   "source": [
    "#### Question 8\n",
    "\n",
    "Find the average speed for each period, at the location where the sign was placed\n",
    "\n",
    "**Hint:** You will need to filter by period and warning.  It is easier to do this 3 times, filtering for the 3 different periods each time"
   ]
  },
  {
   "cell_type": "code",
   "execution_count": null,
   "id": "practical-parish",
   "metadata": {},
   "outputs": [],
   "source": []
  }
 ],
 "metadata": {
  "kernelspec": {
   "display_name": "Python 3 (ipykernel)",
   "language": "python",
   "name": "python3"
  },
  "language_info": {
   "codemirror_mode": {
    "name": "ipython",
    "version": 3
   },
   "file_extension": ".py",
   "mimetype": "text/x-python",
   "name": "python",
   "nbconvert_exporter": "python",
   "pygments_lexer": "ipython3",
   "version": "3.9.7"
  }
 },
 "nbformat": 4,
 "nbformat_minor": 5
}
