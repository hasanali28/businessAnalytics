{
 "cells": [
  {
   "cell_type": "markdown",
   "id": "a6b0fb05",
   "metadata": {},
   "source": [
    "## Exercise 4 Basic_data_exploration_using_pandas"
   ]
  },
  {
   "cell_type": "code",
   "execution_count": 21,
   "id": "intellectual-scout",
   "metadata": {},
   "outputs": [],
   "source": [
    "import pandas as pd"
   ]
  },
  {
   "cell_type": "code",
   "execution_count": 22,
   "id": "champion-leave",
   "metadata": {},
   "outputs": [
    {
     "data": {
      "text/html": [
       "<div>\n",
       "<style scoped>\n",
       "    .dataframe tbody tr th:only-of-type {\n",
       "        vertical-align: middle;\n",
       "    }\n",
       "\n",
       "    .dataframe tbody tr th {\n",
       "        vertical-align: top;\n",
       "    }\n",
       "\n",
       "    .dataframe thead th {\n",
       "        text-align: right;\n",
       "    }\n",
       "</style>\n",
       "<table border=\"1\" class=\"dataframe\">\n",
       "  <thead>\n",
       "    <tr style=\"text-align: right;\">\n",
       "      <th></th>\n",
       "      <th>ssn</th>\n",
       "      <th>age</th>\n",
       "      <th>workclass</th>\n",
       "      <th>fnlwgt</th>\n",
       "      <th>education</th>\n",
       "      <th>education-num</th>\n",
       "      <th>marital_status</th>\n",
       "      <th>occupation</th>\n",
       "      <th>relationship</th>\n",
       "      <th>race</th>\n",
       "      <th>gender</th>\n",
       "      <th>capital_gain</th>\n",
       "      <th>capital_loss</th>\n",
       "      <th>hours_per_week</th>\n",
       "      <th>country_of_origin</th>\n",
       "      <th>income</th>\n",
       "      <th>dob</th>\n",
       "    </tr>\n",
       "  </thead>\n",
       "  <tbody>\n",
       "    <tr>\n",
       "      <th>0</th>\n",
       "      <td>1</td>\n",
       "      <td>39</td>\n",
       "      <td>State-gov</td>\n",
       "      <td>77516</td>\n",
       "      <td>Bachelors</td>\n",
       "      <td>13</td>\n",
       "      <td>Never-married</td>\n",
       "      <td>Adm-clerical</td>\n",
       "      <td>Not-in-family</td>\n",
       "      <td>White</td>\n",
       "      <td>Male</td>\n",
       "      <td>2174</td>\n",
       "      <td>0</td>\n",
       "      <td>40</td>\n",
       "      <td>United-States</td>\n",
       "      <td>&lt;=50K</td>\n",
       "      <td>1982-06-04</td>\n",
       "    </tr>\n",
       "    <tr>\n",
       "      <th>1</th>\n",
       "      <td>2</td>\n",
       "      <td>50</td>\n",
       "      <td>Self-emp-not-inc</td>\n",
       "      <td>83311</td>\n",
       "      <td>Bachelors</td>\n",
       "      <td>13</td>\n",
       "      <td>Married-civ-spouse</td>\n",
       "      <td>Exec-managerial</td>\n",
       "      <td>Husband</td>\n",
       "      <td>White</td>\n",
       "      <td>Male</td>\n",
       "      <td>0</td>\n",
       "      <td>0</td>\n",
       "      <td>13</td>\n",
       "      <td>United-States</td>\n",
       "      <td>&lt;=50K</td>\n",
       "      <td>1971-02-03</td>\n",
       "    </tr>\n",
       "    <tr>\n",
       "      <th>2</th>\n",
       "      <td>3</td>\n",
       "      <td>38</td>\n",
       "      <td>Private</td>\n",
       "      <td>215646</td>\n",
       "      <td>HS-grad</td>\n",
       "      <td>9</td>\n",
       "      <td>Divorced</td>\n",
       "      <td>Handlers-cleaners</td>\n",
       "      <td>Not-in-family</td>\n",
       "      <td>White</td>\n",
       "      <td>Male</td>\n",
       "      <td>0</td>\n",
       "      <td>0</td>\n",
       "      <td>40</td>\n",
       "      <td>United-States</td>\n",
       "      <td>&lt;=50K</td>\n",
       "      <td>1983-09-29</td>\n",
       "    </tr>\n",
       "    <tr>\n",
       "      <th>3</th>\n",
       "      <td>4</td>\n",
       "      <td>53</td>\n",
       "      <td>Private</td>\n",
       "      <td>234721</td>\n",
       "      <td>11th</td>\n",
       "      <td>7</td>\n",
       "      <td>Married-civ-spouse</td>\n",
       "      <td>Handlers-cleaners</td>\n",
       "      <td>Husband</td>\n",
       "      <td>Black</td>\n",
       "      <td>Male</td>\n",
       "      <td>0</td>\n",
       "      <td>0</td>\n",
       "      <td>40</td>\n",
       "      <td>United-States</td>\n",
       "      <td>&lt;=50K</td>\n",
       "      <td>1968-07-09</td>\n",
       "    </tr>\n",
       "    <tr>\n",
       "      <th>4</th>\n",
       "      <td>5</td>\n",
       "      <td>28</td>\n",
       "      <td>Private</td>\n",
       "      <td>338409</td>\n",
       "      <td>Bachelors</td>\n",
       "      <td>13</td>\n",
       "      <td>Married-civ-spouse</td>\n",
       "      <td>Prof-specialty</td>\n",
       "      <td>Wife</td>\n",
       "      <td>Black</td>\n",
       "      <td>Female</td>\n",
       "      <td>0</td>\n",
       "      <td>0</td>\n",
       "      <td>40</td>\n",
       "      <td>Cuba</td>\n",
       "      <td>&lt;=50K</td>\n",
       "      <td>1993-03-08</td>\n",
       "    </tr>\n",
       "  </tbody>\n",
       "</table>\n",
       "</div>"
      ],
      "text/plain": [
       "   ssn  age          workclass  fnlwgt   education  education-num  \\\n",
       "0    1   39          State-gov   77516   Bachelors             13   \n",
       "1    2   50   Self-emp-not-inc   83311   Bachelors             13   \n",
       "2    3   38            Private  215646     HS-grad              9   \n",
       "3    4   53            Private  234721        11th              7   \n",
       "4    5   28            Private  338409   Bachelors             13   \n",
       "\n",
       "        marital_status          occupation    relationship    race   gender  \\\n",
       "0        Never-married        Adm-clerical   Not-in-family   White     Male   \n",
       "1   Married-civ-spouse     Exec-managerial         Husband   White     Male   \n",
       "2             Divorced   Handlers-cleaners   Not-in-family   White     Male   \n",
       "3   Married-civ-spouse   Handlers-cleaners         Husband   Black     Male   \n",
       "4   Married-civ-spouse      Prof-specialty            Wife   Black   Female   \n",
       "\n",
       "   capital_gain  capital_loss  hours_per_week country_of_origin  income  \\\n",
       "0          2174             0              40     United-States   <=50K   \n",
       "1             0             0              13     United-States   <=50K   \n",
       "2             0             0              40     United-States   <=50K   \n",
       "3             0             0              40     United-States   <=50K   \n",
       "4             0             0              40              Cuba   <=50K   \n",
       "\n",
       "          dob  \n",
       "0  1982-06-04  \n",
       "1  1971-02-03  \n",
       "2  1983-09-29  \n",
       "3  1968-07-09  \n",
       "4  1993-03-08  "
      ]
     },
     "execution_count": 22,
     "metadata": {},
     "output_type": "execute_result"
    }
   ],
   "source": [
    "df = pd.read_csv('data/adult.csv')\n",
    "df.head()"
   ]
  },
  {
   "cell_type": "markdown",
   "id": "random-cancer",
   "metadata": {},
   "source": [
    "## Question 1: Basic data exploration\n",
    "\n",
    "#### Part A\n",
    "\n",
    "Are there any null values?  If so, how many and for which columns?"
   ]
  },
  {
   "cell_type": "code",
   "execution_count": null,
   "id": "alive-absolute",
   "metadata": {},
   "outputs": [],
   "source": []
  },
  {
   "cell_type": "markdown",
   "id": "sitting-pathology",
   "metadata": {},
   "source": [
    "#### Part B\n",
    "\n",
    "What are the different marital statuses and how many rows do we have for each?"
   ]
  },
  {
   "cell_type": "code",
   "execution_count": null,
   "id": "orange-rebound",
   "metadata": {
    "scrolled": true
   },
   "outputs": [],
   "source": []
  },
  {
   "cell_type": "markdown",
   "id": "quiet-rainbow",
   "metadata": {},
   "source": [
    "#### Part C\n",
    "\n",
    "\"Married-civ-spouse\", \"Married-spouse-absent\", and \"Married-AF-spouse\" might make more sense grouped up as a single value, \"Married\".  \n",
    "\n",
    "Change the three values above to be \"Married\" in the dataframe and check the value_counts again to make sure it went through"
   ]
  },
  {
   "cell_type": "code",
   "execution_count": null,
   "id": "affiliated-blond",
   "metadata": {},
   "outputs": [],
   "source": []
  },
  {
   "cell_type": "markdown",
   "id": "previous-better",
   "metadata": {},
   "source": [
    "#### Part D\n",
    "\n",
    "What's the average age of the people in the dataset?  What's the average age by marital status?"
   ]
  },
  {
   "cell_type": "code",
   "execution_count": null,
   "id": "nasty-conviction",
   "metadata": {},
   "outputs": [],
   "source": []
  },
  {
   "cell_type": "markdown",
   "id": "academic-bradley",
   "metadata": {},
   "source": [
    "## Question 2:  Slicing a dataset\n",
    "\n",
    "#### Part A\n",
    "\n",
    "Let's say we want to evaluate \"young\" married individuals.  Let's create a slice of the dataset where people are younger than 30 and married"
   ]
  },
  {
   "cell_type": "code",
   "execution_count": null,
   "id": "artistic-corruption",
   "metadata": {},
   "outputs": [],
   "source": []
  },
  {
   "cell_type": "markdown",
   "id": "requested-better",
   "metadata": {},
   "source": [
    "#### Part B\n",
    "\n",
    "Let's slice up the dataset further.  We only want people from the United States"
   ]
  },
  {
   "cell_type": "code",
   "execution_count": null,
   "id": "unique-riding",
   "metadata": {},
   "outputs": [],
   "source": []
  },
  {
   "cell_type": "markdown",
   "id": "embedded-indiana",
   "metadata": {},
   "source": [
    "## Question 3: Altering the dataframe\n",
    "\n",
    "#### Part A\n",
    "\n",
    "We want to use hours_per_week but turn it into a categorical value.  Create a new column \"work_status\" with the following conditions:\n",
    "\n",
    "1. If hours_per_week is less than 10, let's consider them \"unemployed\"\n",
    "2. If hours_per_week is between 10 and 30, let's consider them \"part-time\"\n",
    "3. If hours_per_week is between 30 and 50, they're \"full-time\"\n",
    "4. If hours_per_week is greater than 50, they're \"over-time\""
   ]
  },
  {
   "cell_type": "code",
   "execution_count": null,
   "id": "blond-antigua",
   "metadata": {},
   "outputs": [],
   "source": []
  },
  {
   "cell_type": "markdown",
   "id": "governmental-arrow",
   "metadata": {},
   "source": [
    "#### Part B\n",
    "\n",
    "The column names aren't the most descriptive.  Rename workclass and education-num to something that better captures the data"
   ]
  },
  {
   "cell_type": "code",
   "execution_count": null,
   "id": "chicken-phone",
   "metadata": {},
   "outputs": [],
   "source": []
  },
  {
   "cell_type": "markdown",
   "id": "guided-division",
   "metadata": {},
   "source": [
    "#### Part C\n",
    "\n",
    "Drop any columns that are unnecessary"
   ]
  },
  {
   "cell_type": "code",
   "execution_count": null,
   "id": "animal-sudan",
   "metadata": {},
   "outputs": [],
   "source": []
  }
 ],
 "metadata": {
  "kernelspec": {
   "display_name": "Python 3 (ipykernel)",
   "language": "python",
   "name": "python3"
  },
  "language_info": {
   "codemirror_mode": {
    "name": "ipython",
    "version": 3
   },
   "file_extension": ".py",
   "mimetype": "text/x-python",
   "name": "python",
   "nbconvert_exporter": "python",
   "pygments_lexer": "ipython3",
   "version": "3.9.7"
  }
 },
 "nbformat": 4,
 "nbformat_minor": 5
}
