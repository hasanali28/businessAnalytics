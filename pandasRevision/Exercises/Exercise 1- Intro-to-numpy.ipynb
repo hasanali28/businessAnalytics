{
 "cells": [
  {
   "cell_type": "markdown",
   "id": "likely-kitchen",
   "metadata": {},
   "source": [
    "## Exercise:Intro to numpy\n",
    "Numpy operates on *nd* arrays. These are similar to lists but contains homogenous elements and easier to store 2-d data.\n",
    "\n",
    "We want to work with sales data.  However, in order to do so we need sales data.  So let's make some.  We are working with a month's worth of data that is tracked daily.  We will also be tracking jeans, shirts, and apparel separately. \n",
    "\n",
    "### Part A\n",
    "\n",
    "#### Question 1\n",
    "\n",
    "The general trend is positive, so make three distinct arrays of length 31 each, starting with 5 and going up to 35 for jeans, shirts, and apparel."
   ]
  },
  {
   "cell_type": "code",
   "execution_count": null,
   "id": "democratic-beijing",
   "metadata": {},
   "outputs": [],
   "source": []
  },
  {
   "cell_type": "markdown",
   "id": "technological-flashing",
   "metadata": {},
   "source": [
    "#### Question 2\n",
    "\n",
    "We also know Saturdays and Sundays have much more sales than the other days.  Add 10 to every 6th and 7th day (assume the first day in the array is a Monday)\n",
    "\n",
    "**Hint:** Create a mask that is True for sat and sun and False for the other days"
   ]
  },
  {
   "cell_type": "code",
   "execution_count": null,
   "id": "enabling-flashing",
   "metadata": {},
   "outputs": [],
   "source": []
  },
  {
   "cell_type": "markdown",
   "id": "decimal-nevada",
   "metadata": {},
   "source": [
    "#### Question 3\n",
    "\n",
    "No data is pretty.  We will need some noise.  Create a numpy array of random numbers (normal distribution) that has 31 rows and 3 columns\n",
    "- generate a single noise array of size (31,3) where each column will represent each array you created above\n"
   ]
  },
  {
   "cell_type": "code",
   "execution_count": null,
   "id": "difficult-yorkshire",
   "metadata": {},
   "outputs": [],
   "source": []
  },
  {
   "cell_type": "markdown",
   "id": "subject-behavior",
   "metadata": {},
   "source": [
    "#### Question 4\n",
    "\n",
    "This random data needs to be scaled.  Add 1.5 to the entire array.  Then divide the jeans column by 2 and multiply the apparel column by 2"
   ]
  },
  {
   "cell_type": "code",
   "execution_count": null,
   "id": "numerical-record",
   "metadata": {},
   "outputs": [],
   "source": []
  },
  {
   "cell_type": "markdown",
   "id": "accepting-recognition",
   "metadata": {},
   "source": [
    "#### Question 5\n",
    "\n",
    "Check to make sure that you don't have any negative values in the number of units sold.  If you do, set those values equal to zero."
   ]
  },
  {
   "cell_type": "code",
   "execution_count": null,
   "id": "modern-passing",
   "metadata": {},
   "outputs": [],
   "source": []
  },
  {
   "cell_type": "markdown",
   "id": "public-perspective",
   "metadata": {},
   "source": [
    "#### Question 6\n",
    "\n",
    "Multiply the Noise array and the data arrays(jeans,shirt and apparel)arrays.You should now have an approximation for number of units sold. Unfortunately, they're floats. Convert the values into integers"
   ]
  },
  {
   "cell_type": "code",
   "execution_count": null,
   "id": "chicken-intervention",
   "metadata": {},
   "outputs": [],
   "source": []
  },
  {
   "cell_type": "markdown",
   "id": "accurate-vessel",
   "metadata": {},
   "source": [
    "#### Question 7\n",
    "\n",
    "Finally, these values are in units sold, but not how much money made.  Let's say each apparel was 10 dollars, each shirt was 20, and each pair of jeans were 30.  Multiply each column by the dollar amount earned by Levis.  What was the total amount earned?"
   ]
  },
  {
   "cell_type": "code",
   "execution_count": null,
   "id": "fifteen-spencer",
   "metadata": {},
   "outputs": [],
   "source": []
  },
  {
   "cell_type": "markdown",
   "id": "ae2742f4",
   "metadata": {},
   "source": [
    "#### Question 8\n",
    "Concatenate all the three arrays as a single data array"
   ]
  },
  {
   "cell_type": "markdown",
   "id": "21b2a776",
   "metadata": {},
   "source": [
    "### Part B\n",
    "#### Question 1\n",
    "\n",
    "Create an identity 2d-array or matrix (with ones across the diagonal).\n",
    "`An identity matrix is a square matrix having 1s on the main diagonal, and 0s everywhere else`\n",
    "\n",
    "**Hint:** You can also use `np.identity()` function "
   ]
  },
  {
   "cell_type": "code",
   "execution_count": null,
   "id": "fe736cba",
   "metadata": {},
   "outputs": [],
   "source": []
  },
  {
   "cell_type": "markdown",
   "id": "5a41a46c",
   "metadata": {},
   "source": [
    "#### Question 2\n",
    "Create a 2d-array or matrix of order 3x3 with values = 9,8,7,6,5,4,3,2,1 arranged in the same order."
   ]
  },
  {
   "cell_type": "code",
   "execution_count": null,
   "id": "840bb441",
   "metadata": {},
   "outputs": [],
   "source": []
  },
  {
   "cell_type": "markdown",
   "id": "e8bb538c",
   "metadata": {},
   "source": [
    "#### Question 3\n",
    "Interchange both the rows and columns of the given matrix.\n",
    "\n",
    "**Hint:** make rows as columns and columns as rows\n"
   ]
  },
  {
   "cell_type": "code",
   "execution_count": null,
   "id": "ccee335d",
   "metadata": {},
   "outputs": [],
   "source": []
  },
  {
   "cell_type": "markdown",
   "id": "d5ffef7e",
   "metadata": {},
   "source": [
    "#### Question 4\n",
    "Add + 1 to all the elements in the matrix created above."
   ]
  },
  {
   "cell_type": "code",
   "execution_count": null,
   "id": "4a8b6af0",
   "metadata": {},
   "outputs": [],
   "source": []
  },
  {
   "cell_type": "markdown",
   "id": "d7f9d13b",
   "metadata": {},
   "source": [
    "#### Question 5\n",
    "\n",
    "Find the mean of all elements in the given matrix arr2.\n",
    "- create three lists L1,L2,L3 and populate them with [1, 4,9,121,144,169],[16,25,36,196,225,256],[49,64,81,289,324,361] respectively\n",
    "- create an array using these lists\n",
    "- find the mean of the array"
   ]
  },
  {
   "cell_type": "code",
   "execution_count": null,
   "id": "5330571f",
   "metadata": {},
   "outputs": [],
   "source": []
  },
  {
   "cell_type": "markdown",
   "id": "6ae9f527",
   "metadata": {},
   "source": [
    "#### Question 6\n",
    "Find the dot product of two arrays created above in question 4 and question 5"
   ]
  },
  {
   "cell_type": "code",
   "execution_count": null,
   "id": "444eca05",
   "metadata": {},
   "outputs": [],
   "source": []
  }
 ],
 "metadata": {
  "kernelspec": {
   "display_name": "Python 3 (ipykernel)",
   "language": "python",
   "name": "python3"
  },
  "language_info": {
   "codemirror_mode": {
    "name": "ipython",
    "version": 3
   },
   "file_extension": ".py",
   "mimetype": "text/x-python",
   "name": "python",
   "nbconvert_exporter": "python",
   "pygments_lexer": "ipython3",
   "version": "3.9.7"
  }
 },
 "nbformat": 4,
 "nbformat_minor": 5
}
