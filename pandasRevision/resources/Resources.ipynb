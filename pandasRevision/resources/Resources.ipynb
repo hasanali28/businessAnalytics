{
 "cells": [
  {
   "cell_type": "markdown",
   "id": "wicked-hazard",
   "metadata": {},
   "source": [
    "## Numpy\n",
    "\n",
    "1. <b>Python Programmer:</b> https://www.youtube.com/watch?v=xECXZ3tyONo\n",
    "2. <b>Keith Galli:</b> https://www.youtube.com/watch?v=GB9ByFAIAH4\n",
    "3. <b>Python Engineer:</b> https://www.youtube.com/watch?v=9JUAPgtkKpI\n",
    "4. <b>Derek Banas:</b> https://www.youtube.com/watch?v=8Y0qQEh7dJg\n",
    "\n",
    "### From the Notebook\n",
    "\n",
    "1. [NumPy: the absolute basics for beginners -- Official](https://numpy.org/doc/stable/user/absolute_beginners.html) is the official documentation that describes the basics in simple terms\n",
    "2. [A Visual Intro to NumPy and Data Representation](https://jalammar.github.io/visual-numpy/) and [NumPy Illustrated: The Visual Guide to NumPy](https://betterprogramming.pub/numpy-illustrated-the-visual-guide-to-numpy-3b1d4976de1d) are the original resources, referred to for the images in this article\n",
    "3. Practice makes anyone perfect and neither you nor numpy is any different! Check out [101 Numpy Exercises -- Machine Learning Plus](https://www.machinelearningplus.com/python/101-numpy-exercises-python/) and [100 numpy exercises -- Nicolas P. Rougier](https://github.com/rougier/numpy-100/blob/master/100_Numpy_exercises_with_hints.md)\n",
    "    - Try solving the problems without looking at the hints\n",
    "    - You are meant to struggle → you are forming new connections → struggle is necessary for new concepts to stick\n",
    "\n",
    "## Pandas\n",
    "\n",
    "1. <b>Python Programmer:</b> https://www.youtube.com/watch?v=dcqPhpY7tWk\n",
    "2. https://github.com/justmarkham/pandas-videos\n",
    "3. <b>Keith Galli</b> https://www.youtube.com/watch?v=vmEHCJofslg\n",
    "4. <b>Derek Banas:</b> https://www.youtube.com/watch?v=PcvsOaixUh8\n",
    "5. <b>Data School:</b> https://www.youtube.com/watch?v=RlIiVeig3hc\n",
    "\n",
    "### From the Notebook\n",
    "\n",
    "1. [Pandas Cheatsheet](https://attachments.convertkitcdnn2.com/682688/4d4172ec-3491-43ec-9ce0-f03cc7f0eb1e/Python%20Cheat%20Sheet%20for%20Excel%20Users.pdf) is a comprehensive cheatsheet for those who are making the move from Excel to Pandas via Python. Essentially for all of you! Here is another [beginner-friendly cheatsheet](https://www.dataquest.io/blog/pandas-cheat-sheet/\n",
    "2. For more comparisons with spreadsheets, check out the [Official Pandas to Spreadsheet Comparisons](https://pandas.pydata.org/pandas-docs/dev/getting_started/comparison/comparison_with_spreadsheets.html) and [A Complete Yet Simple Guide to Move from Excel to Python](https://towardsdatascience.com/a-complete-yet-simple-guide-to-move-from-excel-to-python-d664e5683039)\n",
    "3. Want to get started quickly with Pandas? Check out the official, awesome yet short [10-min guide to Pandas](https://pandas.pydata.org/pandas-docs/stable/user_guide/10min.html)\n",
    "4. Do you want to have a go at learning Pandas once again? Try out [Kevin Markham's excellent YT playlist on Data Analysis with Pandas](https://www.youtube.com/playlist?list=PL5-da3qGB5ICCsgW1MxlZ0Hq8LL5U3u9y). Note that we will be covering more topics, specifically about cleaning and feature engineering in subsequent notebooks.\n",
    "5. Want to level up with some best practices? Check out [Kevin Markham's Best practices with Pandas](https://www.youtube.com/playlist?list=PL5-da3qGB5IBITZj_dYSFqnd_15JgqwA6)\n",
    "6. [Intro to pandas data structures](http://www.gregreda.com/2013/10/26/intro-to-pandas-data-structures/) gives you a more exploratory sneak peek into the different file formats that you can load into Pandas (SQL, HDF5, SAS, Stata etc.)\n",
    "7. [Official Groupby Documentation](https://pandas.pydata.org/docs/reference/groupby.html) provides a clear overview of the different attributes and methods that we can invoke on the groupby object\n",
    "8. Want to learn more about merging and concatenating, joining and appending? Check out the [Official Merging Documentation](https://pandas.pydata.org/pandas-docs/stable/user_guide/merging.html)"
   ]
  },
  {
   "cell_type": "markdown",
   "id": "0c85e339",
   "metadata": {},
   "source": [
    "### From the Notebook — Pandas Reshaping\n",
    "\n",
    "1. Still confused about a MultiIndex? [This fascinating article](https://jessicastringham.net/2019/12/10/multiindex/) will visually help you navigate one such MultiIndex. Note that it also covers interesting functions to create a MultiIndex from scratch, just like how we built Series and Dataframes from scratch.\n",
    "\n",
    "2. [This video from Data School](https://www.youtube.com/watch?v=tcRGa2soc-c) will help you reinforce your MultiIndex concepts, while also covering reshaping topics."
   ]
  },
  {
   "cell_type": "markdown",
   "id": "brazilian-nowhere",
   "metadata": {},
   "source": [
    "## Extra Exercises\n",
    "\n",
    "#### Numpy\n",
    "\n",
    "1. https://www.machinelearningplus.com/python/101-numpy-exercises-python/\n",
    "\n",
    "#### Pandas\n",
    "\n",
    "1. https://github.com/guipsamora/pandas_exercises\n",
    "2. https://github.com/ajcr/100-pandas-puzzles\n",
    "3. https://github.com/justmarkham/pycon-2019-tutorial\n"
   ]
  }
 ],
 "metadata": {
  "kernelspec": {
   "display_name": "Python 3",
   "language": "python",
   "name": "python3"
  },
  "language_info": {
   "codemirror_mode": {
    "name": "ipython",
    "version": 3
   },
   "file_extension": ".py",
   "mimetype": "text/x-python",
   "name": "python",
   "nbconvert_exporter": "python",
   "pygments_lexer": "ipython3",
   "version": "3.8.8"
  }
 },
 "nbformat": 4,
 "nbformat_minor": 5
}
